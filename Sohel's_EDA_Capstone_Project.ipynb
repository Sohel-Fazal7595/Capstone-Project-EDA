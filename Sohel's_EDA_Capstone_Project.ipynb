{
  "nbformat": 4,
  "nbformat_minor": 0,
  "metadata": {
    "colab": {
      "private_outputs": true,
      "provenance": [],
      "collapsed_sections": [
        "PVzmfK_Ep1ck",
        "gIfDvo9L0UH2"
      ]
    },
    "kernelspec": {
      "name": "python3",
      "display_name": "Python 3"
    },
    "language_info": {
      "name": "python"
    }
  },
  "cells": [
    {
      "cell_type": "markdown",
      "source": [
        "# **Project Name**    -\n",
        "\n"
      ],
      "metadata": {
        "id": "vncDsAP0Gaoa"
      }
    },
    {
      "cell_type": "markdown",
      "source": [
        "##### **Project Type**    - EDA/Regression/Classification/Unsupervised\n",
        "##### **Contribution**    - Individual/Team\n",
        "##### **Team Member 1 -** Sk Md Sohel Fazal"
      ],
      "metadata": {
        "id": "beRrZCGUAJYm"
      }
    },
    {
      "cell_type": "markdown",
      "source": [
        "# **Project Summary -**"
      ],
      "metadata": {
        "id": "FJNUwmbgGyua"
      }
    },
    {
      "cell_type": "markdown",
      "source": [
        "Terrorism and acts of terrorism occur throughout the world. This project summarizes the different insights gained from the dataset Global Terrorism which is maintained GTD : Global Terrorism Database. There are wide range of columns in the dataset, like date specific columns which maintain the date range of the terrorism activities, countries affected, regions affected, weapon types used, number of killed, suicide attacks or not, etc. My task is to find valuable insights from the dataset using python libraries like numpy, pandas and visualize the findings using libraries like matplotlib and seaborn."
      ],
      "metadata": {
        "id": "F6v_1wHtG2nS"
      }
    },
    {
      "cell_type": "markdown",
      "source": [
        "# **GitHub Link -**"
      ],
      "metadata": {
        "id": "w6K7xa23Elo4"
      }
    },
    {
      "cell_type": "markdown",
      "source": [
        "Provide your GitHub Link here."
      ],
      "metadata": {
        "id": "h1o69JH3Eqqn"
      }
    },
    {
      "cell_type": "markdown",
      "source": [
        "# **Problem Statement**\n"
      ],
      "metadata": {
        "id": "yQaldy8SH6Dl"
      }
    },
    {
      "cell_type": "markdown",
      "source": [
        "Terrorism is something that happens throughout the world, with various trends, regionally and periodically. We have acquired a csv from the Global Terrorism Database (GTD) and our quest is to find valuable insights into the world of terrorism through its data."
      ],
      "metadata": {
        "id": "DpeJGUA3kjGy"
      }
    },
    {
      "cell_type": "markdown",
      "source": [
        "#### **Define Your Business Objective?**"
      ],
      "metadata": {
        "id": "PH-0ReGfmX4f"
      }
    },
    {
      "cell_type": "markdown",
      "source": [
        "Use the Comma Separated Values(CSV) file provided to gain insights into the world of terrorism and understand deeply terrorism thrends globally across region and over time."
      ],
      "metadata": {
        "id": "PhDvGCAqmjP1"
      }
    },
    {
      "cell_type": "markdown",
      "source": [
        "# **General Guidelines** : -  "
      ],
      "metadata": {
        "id": "mDgbUHAGgjLW"
      }
    },
    {
      "cell_type": "markdown",
      "source": [
        "1.   Well-structured, formatted, and commented code is required.\n",
        "2.   Exception Handling, Production Grade Code & Deployment Ready Code will be a plus. Those students will be awarded some additional credits.\n",
        "     \n",
        "     The additional credits will have advantages over other students during Star Student selection.\n",
        "       \n",
        "             [ Note: - Deployment Ready Code is defined as, the whole .ipynb notebook should be executable in one go\n",
        "                       without a single error logged. ]\n",
        "\n",
        "3.   Each and every logic should have proper comments.\n",
        "4. You may add as many number of charts you want. Make Sure for each and every chart the following format should be answered.\n",
        "        \n",
        "\n",
        "```\n",
        "# Chart visualization code\n",
        "```\n",
        "            \n",
        "\n",
        "*   Why did you pick the specific chart?\n",
        "*   What is/are the insight(s) found from the chart?\n",
        "* Will the gained insights help creating a positive business impact?\n",
        "Are there any insights that lead to negative growth? Justify with specific reason.\n",
        "\n",
        "5. You have to create at least 20 logical & meaningful charts having important insights.\n",
        "\n",
        "\n",
        "[ Hints : - Do the Vizualization in  a structured way while following \"UBM\" Rule.\n",
        "\n",
        "U - Univariate Analysis,\n",
        "\n",
        "B - Bivariate Analysis (Numerical - Categorical, Numerical - Numerical, Categorical - Categorical)\n",
        "\n",
        "M - Multivariate Analysis\n",
        " ]\n",
        "\n",
        "\n",
        "\n"
      ],
      "metadata": {
        "id": "ZrxVaUj-hHfC"
      }
    },
    {
      "cell_type": "markdown",
      "source": [
        "# ***Let's Begin !***"
      ],
      "metadata": {
        "id": "O_i_v8NEhb9l"
      }
    },
    {
      "cell_type": "markdown",
      "source": [
        "## ***1. Know Your Data***"
      ],
      "metadata": {
        "id": "HhfV-JJviCcP"
      }
    },
    {
      "cell_type": "markdown",
      "source": [
        "### Import Libraries"
      ],
      "metadata": {
        "id": "Y3lxredqlCYt"
      }
    },
    {
      "cell_type": "code",
      "source": [
        "# Import Libraries"
      ],
      "metadata": {
        "id": "M8Vqi-pPk-HR"
      },
      "execution_count": null,
      "outputs": []
    },
    {
      "cell_type": "code",
      "source": [
        "import numpy as np\n",
        "import pandas as pd\n",
        "import matplotlib.pyplot as plt\n",
        "import seaborn as sns"
      ],
      "metadata": {
        "id": "K6gMSuYKca3d"
      },
      "execution_count": null,
      "outputs": []
    },
    {
      "cell_type": "markdown",
      "source": [
        "### Dataset Loading"
      ],
      "metadata": {
        "id": "3RnN4peoiCZX"
      }
    },
    {
      "cell_type": "code",
      "source": [
        "# Load Dataset"
      ],
      "metadata": {
        "id": "4CkvbW_SlZ_R"
      },
      "execution_count": null,
      "outputs": []
    },
    {
      "cell_type": "code",
      "execution_count": null,
      "metadata": {
        "id": "pAwwSO7Yxp9a"
      },
      "outputs": [],
      "source": [
        "from google.colab import drive\n",
        "drive.mount(\"/content/drive\")"
      ]
    },
    {
      "cell_type": "code",
      "source": [
        "df = pd.read_csv(\"/content/drive/MyDrive/Datasets/Global Terrorism Data.csv\", sep=',', encoding='latin-1')"
      ],
      "metadata": {
        "id": "XzEfUcHIx7_x"
      },
      "execution_count": null,
      "outputs": []
    },
    {
      "cell_type": "markdown",
      "source": [
        "### Dataset First View"
      ],
      "metadata": {
        "id": "x71ZqKXriCWQ"
      }
    },
    {
      "cell_type": "code",
      "source": [
        "# Dataset First Look"
      ],
      "metadata": {
        "id": "LWNFOSvLl09H"
      },
      "execution_count": null,
      "outputs": []
    },
    {
      "cell_type": "code",
      "source": [
        "df.head(10)"
      ],
      "metadata": {
        "id": "45JkOi_w6IxF"
      },
      "execution_count": null,
      "outputs": []
    },
    {
      "cell_type": "markdown",
      "source": [
        "### Dataset Rows & Columns count"
      ],
      "metadata": {
        "id": "7hBIi_osiCS2"
      }
    },
    {
      "cell_type": "code",
      "source": [
        "# Dataset Rows & Columns count\n",
        "print(len(df), len(df.columns))"
      ],
      "metadata": {
        "id": "Kllu7SJgmLij"
      },
      "execution_count": null,
      "outputs": []
    },
    {
      "cell_type": "markdown",
      "source": [
        "### Dataset Information"
      ],
      "metadata": {
        "id": "JlHwYmJAmNHm"
      }
    },
    {
      "cell_type": "code",
      "source": [
        "# Dataset Info"
      ],
      "metadata": {
        "id": "e9hRXRi6meOf"
      },
      "execution_count": null,
      "outputs": []
    },
    {
      "cell_type": "code",
      "source": [
        "df.info()"
      ],
      "metadata": {
        "id": "pQvxrz-rwQVh"
      },
      "execution_count": null,
      "outputs": []
    },
    {
      "cell_type": "markdown",
      "source": [
        "#### Duplicate Values"
      ],
      "metadata": {
        "id": "35m5QtbWiB9F"
      }
    },
    {
      "cell_type": "code",
      "source": [
        "# Dataset Duplicate Value Count\n",
        "len(df[df.duplicated() == True])"
      ],
      "metadata": {
        "id": "1sLdpKYkmox0"
      },
      "execution_count": null,
      "outputs": []
    },
    {
      "cell_type": "markdown",
      "source": [
        "####No duplicates found in the dataset"
      ],
      "metadata": {
        "id": "BFIrWrwg674c"
      }
    },
    {
      "cell_type": "markdown",
      "source": [
        "#### Missing Values/Null Values"
      ],
      "metadata": {
        "id": "PoPl-ycgm1ru"
      }
    },
    {
      "cell_type": "code",
      "source": [
        "# Missing Values/Null Values Count\n",
        "null_dropped_df = df.dropna()\n",
        "null_dropped_df"
      ],
      "metadata": {
        "id": "GgHWkxvamxVg"
      },
      "execution_count": null,
      "outputs": []
    },
    {
      "cell_type": "code",
      "source": [
        "# Visualizing the missing values"
      ],
      "metadata": {
        "id": "3q5wnI3om9sJ"
      },
      "execution_count": null,
      "outputs": []
    },
    {
      "cell_type": "code",
      "source": [
        "df.isnull().sum()"
      ],
      "metadata": {
        "id": "rKFHLWK8hw5c"
      },
      "execution_count": null,
      "outputs": []
    },
    {
      "cell_type": "markdown",
      "source": [
        "### What did you know about your dataset?"
      ],
      "metadata": {
        "id": "H0kj-8xxnORC"
      }
    },
    {
      "cell_type": "markdown",
      "source": [
        "#####ent through the codebook to understand the meaning of the columns. Seems like all of the columns have meaning and there is a filling of -99 or 0 where the value for the column is unknown."
      ],
      "metadata": {
        "id": "th5mJSzR765C"
      }
    },
    {
      "cell_type": "markdown",
      "source": [
        "Answer Here"
      ],
      "metadata": {
        "id": "gfoNAAC-nUe_"
      }
    },
    {
      "cell_type": "markdown",
      "source": [
        "## ***2. Understanding Your Variables***"
      ],
      "metadata": {
        "id": "nA9Y7ga8ng1Z"
      }
    },
    {
      "cell_type": "markdown",
      "source": [
        "## 3. ***Data Wrangling***"
      ],
      "metadata": {
        "id": "dauF4eBmngu3"
      }
    },
    {
      "cell_type": "markdown",
      "source": [
        "### Data Wrangling Code : is all over spead throughout the notebook"
      ],
      "metadata": {
        "id": "bKJF3rekwFvQ"
      }
    },
    {
      "cell_type": "code",
      "source": [
        "extended_by_24_hrs = df['extended'].value_counts()\n",
        "extended_by_24_hrs"
      ],
      "metadata": {
        "id": "VTn0HuBOdErA"
      },
      "execution_count": null,
      "outputs": []
    },
    {
      "cell_type": "code",
      "source": [
        "# Write your code to make your dataset analysis ready."
      ],
      "metadata": {
        "id": "wk-9a2fpoLcV"
      },
      "execution_count": null,
      "outputs": []
    },
    {
      "cell_type": "markdown",
      "source": [
        "### What all manipulations have you done and insights you found?"
      ],
      "metadata": {
        "id": "MSa1f5Uengrz"
      }
    },
    {
      "cell_type": "markdown",
      "source": [
        "##Thus we can infer that most incidents take place for less than 24 hours, but 8239 incidents have prolonged happening which is greater than 24 hours."
      ],
      "metadata": {
        "id": "-IaOxP3qdYML"
      }
    },
    {
      "cell_type": "code",
      "source": [
        "# Check Unique Values for each variable.\n",
        "df[\"iyear\"].unique()"
      ],
      "metadata": {
        "id": "zms12Yq5n-jE"
      },
      "execution_count": null,
      "outputs": []
    },
    {
      "cell_type": "code",
      "source": [
        "# Dataset Columns\n",
        "df.columns.values"
      ],
      "metadata": {
        "id": "j7xfkqrt5Ag5"
      },
      "execution_count": null,
      "outputs": []
    },
    {
      "cell_type": "markdown",
      "source": [
        "### Variables Description"
      ],
      "metadata": {
        "id": "PBTbrJXOngz2"
      }
    },
    {
      "cell_type": "markdown",
      "source": [
        "Variables are mostly categorical with only the first four rows giving a time based / time - seires data which can be used to create different kinds of insightful visualizations"
      ],
      "metadata": {
        "id": "aJV4KIxSnxay"
      }
    },
    {
      "cell_type": "code",
      "source": [
        "# Dataset Describe"
      ],
      "metadata": {
        "id": "DnOaZdaE5Q5t"
      },
      "execution_count": null,
      "outputs": []
    },
    {
      "cell_type": "code",
      "source": [
        "df.describe()"
      ],
      "metadata": {
        "id": "wb71Wcz1wSpk"
      },
      "execution_count": null,
      "outputs": []
    },
    {
      "cell_type": "markdown",
      "source": [
        "## ***4. Data Vizualization, Storytelling & Experimenting with charts : Understand the relationships between variables***"
      ],
      "metadata": {
        "id": "GF8Ens_Soomf"
      }
    },
    {
      "cell_type": "markdown",
      "source": [
        "#### Chart - 1"
      ],
      "metadata": {
        "id": "0wOQAZs5pc--"
      }
    },
    {
      "cell_type": "code",
      "source": [
        "top_5_countries_terrorism_occur = df[\"country_txt\"].value_counts()[:5]\n",
        "least_5_countries_terrorism_occur = df[\"country_txt\"].value_counts()[-5:]"
      ],
      "metadata": {
        "id": "hw4DBeWxjrcI"
      },
      "execution_count": null,
      "outputs": []
    },
    {
      "cell_type": "code",
      "source": [
        "# Chart - 1 visualization code"
      ],
      "metadata": {
        "id": "7v_ESjsspbW7"
      },
      "execution_count": null,
      "outputs": []
    },
    {
      "cell_type": "code",
      "source": [
        "plt.figure(figsize = (6, 6))\n",
        "plt.pie(top_5_countries_terrorism_occur, labels = top_5_countries_terrorism_occur.index, autopct = \"%.2f\")\n",
        "plt.xlabel(\"Pie chart showing shares top 5 countries where terrorism occur\")\n",
        "plt.show()"
      ],
      "metadata": {
        "id": "wDhMe_p6kwWj"
      },
      "execution_count": null,
      "outputs": []
    },
    {
      "cell_type": "markdown",
      "source": [
        "##### 1. Why did you pick the specific chart?"
      ],
      "metadata": {
        "id": "K5QZ13OEpz2H"
      }
    },
    {
      "cell_type": "markdown",
      "source": [
        "To check every country's participation in terrorism in percentage format."
      ],
      "metadata": {
        "id": "XESiWehPqBRc"
      }
    },
    {
      "cell_type": "markdown",
      "source": [
        "##### 2. What is/are the insight(s) found from the chart?"
      ],
      "metadata": {
        "id": "lQ7QKXXCp7Bj"
      }
    },
    {
      "cell_type": "markdown",
      "source": [
        "##Thus we can conclude that Iraq has the highest share in top 5 countries where terrorism occur with 34.22 % and Columbia is the least in top 5 with 11.54 %."
      ],
      "metadata": {
        "id": "i6Flr45moBX1"
      }
    },
    {
      "cell_type": "markdown",
      "source": [
        "##### 3. Will the gained insights help creating a positive business impact?\n",
        "Are there any insights that lead to negative growth? Justify with specific reason."
      ],
      "metadata": {
        "id": "448CDAPjqfQr"
      }
    },
    {
      "cell_type": "markdown",
      "source": [
        "These countries must work on their anti-terrorist organizations and allocate budget for them."
      ],
      "metadata": {
        "id": "3cspy4FjqxJW"
      }
    },
    {
      "cell_type": "markdown",
      "source": [
        "#### Chart - 2"
      ],
      "metadata": {
        "id": "KSlN3yHqYklG"
      }
    },
    {
      "cell_type": "code",
      "source": [
        "# Chart - 2 visualization code"
      ],
      "metadata": {
        "id": "R4YgtaqtYklH"
      },
      "execution_count": null,
      "outputs": []
    },
    {
      "cell_type": "code",
      "source": [
        "plt.figure(figsize = (6, 6))\n",
        "plt.pie(least_5_countries_terrorism_occur, labels = least_5_countries_terrorism_occur.index)\n",
        "plt.xlabel(\"Pie chart showing shares top 5 countries where terrorism occur least\")\n",
        "plt.show()"
      ],
      "metadata": {
        "id": "ZjjG77iMGuVO"
      },
      "execution_count": null,
      "outputs": []
    },
    {
      "cell_type": "markdown",
      "source": [
        "##### 1. Why did you pick the specific chart?"
      ],
      "metadata": {
        "id": "t6dVpIINYklI"
      }
    },
    {
      "cell_type": "markdown",
      "source": [
        "To check the 5 countries with are most terrorism-safe."
      ],
      "metadata": {
        "id": "5aaW0BYyYklI"
      }
    },
    {
      "cell_type": "markdown",
      "source": [
        "##### 2. What is/are the insight(s) found from the chart?"
      ],
      "metadata": {
        "id": "ijmpgYnKYklI"
      }
    },
    {
      "cell_type": "markdown",
      "source": [
        "Least terrorism countries have so less terrorism incidents and also they are similar in amount of terrorism incidents."
      ],
      "metadata": {
        "id": "DcwLe-B2_Wyy"
      }
    },
    {
      "cell_type": "markdown",
      "source": [
        "##### 3. Will the gained insights help creating a positive business impact?\n",
        "Are there any insights that lead to negative growth? Justify with specific reason."
      ],
      "metadata": {
        "id": "-JiQyfWJYklI"
      }
    },
    {
      "cell_type": "markdown",
      "source": [
        "These countries can reduce their allocation of budget to non-terrorist organizations and keep up the existing non-terrorist organizations."
      ],
      "metadata": {
        "id": "BcBbebzrYklV"
      }
    },
    {
      "cell_type": "markdown",
      "source": [
        "#### Chart - 3"
      ],
      "metadata": {
        "id": "EM7whBJCYoAo"
      }
    },
    {
      "cell_type": "code",
      "source": [
        "# Chart - 3 visualization code"
      ],
      "metadata": {
        "id": "t6GMdE67YoAp"
      },
      "execution_count": null,
      "outputs": []
    },
    {
      "cell_type": "code",
      "source": [
        "top_10_region_terrorism_occur = df[\"region_txt\"].value_counts()[:10]\n",
        "plt.figure(\"Pie chart showing shares top 10 regions where terrorism occur\", figsize = (7, 7))\n",
        "plt.pie(top_10_region_terrorism_occur, labels = top_10_region_terrorism_occur.index, autopct = \"%.2f\")\n",
        "plt.show()"
      ],
      "metadata": {
        "id": "ZLmOxqgFnXIG"
      },
      "execution_count": null,
      "outputs": []
    },
    {
      "cell_type": "markdown",
      "source": [
        "##### 1. Why did you pick the specific chart?"
      ],
      "metadata": {
        "id": "fge-S5ZAYoAp"
      }
    },
    {
      "cell_type": "markdown",
      "source": [
        "To see terrorism trends across regions."
      ],
      "metadata": {
        "id": "5dBItgRVYoAp"
      }
    },
    {
      "cell_type": "markdown",
      "source": [
        "##### 2. What is/are the insight(s) found from the chart?"
      ],
      "metadata": {
        "id": "85gYPyotYoAp"
      }
    },
    {
      "cell_type": "markdown",
      "source": [
        "##Thus we can conclude that most share of terrorism occurs in Middle East & North Africa region and lease share of top 10 where terrorism occurs is East Asia."
      ],
      "metadata": {
        "id": "VdESUT2Qo_gH"
      }
    },
    {
      "cell_type": "markdown",
      "source": [
        "Middle East and South Asia region are most prone to terrorist attacks."
      ],
      "metadata": {
        "id": "4jstXR6OYoAp"
      }
    },
    {
      "cell_type": "markdown",
      "source": [
        "##### 3. Will the gained insights help creating a positive business impact?\n",
        "Are there any insights that lead to negative growth? Justify with specific reason."
      ],
      "metadata": {
        "id": "RoGjAbkUYoAp"
      }
    },
    {
      "cell_type": "markdown",
      "source": [
        "The countries in these regions must work on their anti-terrorist organizations and increase the allocation of budget to fight terrorist activities."
      ],
      "metadata": {
        "id": "zfJ8IqMcYoAp"
      }
    },
    {
      "cell_type": "markdown",
      "source": [
        "#### Chart - 4"
      ],
      "metadata": {
        "id": "4Of9eVA-YrdM"
      }
    },
    {
      "cell_type": "markdown",
      "source": [
        "##Criterion 1: POLITICAL, ECONOMIC, RELIGIOUS, OR SOCIAL GOAL\n",
        "##Criterion 2: INTENTION TO COERCE, INTIMIDATE OR PUBLICIZE TO LARGER AUDIENCE(S)\n",
        "##Criterion 3: OUTSIDE INTERNATIONAL HUMANITARIAN LAW"
      ],
      "metadata": {
        "id": "Fi3cMB4akN_7"
      }
    },
    {
      "cell_type": "code",
      "source": [
        "df_non_null_inclusion_criteria = df[[\"crit1\", \"crit2\", \"crit3\"]].dropna()"
      ],
      "metadata": {
        "id": "982h3EMpfgwW"
      },
      "execution_count": null,
      "outputs": []
    },
    {
      "cell_type": "code",
      "source": [
        "criteria1_fulfilled = df_non_null_inclusion_criteria[\"crit1\"].value_counts()\n",
        "criteria2_fulfilled = df_non_null_inclusion_criteria[\"crit2\"].value_counts()\n",
        "criteria3_fulfilled = df_non_null_inclusion_criteria[\"crit3\"].value_counts()"
      ],
      "metadata": {
        "id": "fUr_ovLKijNC"
      },
      "execution_count": null,
      "outputs": []
    },
    {
      "cell_type": "code",
      "source": [
        "# Chart - 4 visualization code"
      ],
      "metadata": {
        "id": "irlUoxc8YrdO"
      },
      "execution_count": null,
      "outputs": []
    },
    {
      "cell_type": "code",
      "source": [
        "fig, ax = plt.subplots(3)\n",
        "ax[0].bar(x = criteria1_fulfilled.index, height = criteria1_fulfilled)\n",
        "ax[0].set_xlabel(\"Criteria most fulfilled\")\n",
        "ax[0].set_ylabel(\"Frequency\")\n",
        "ax[0].set_xticks([0.00, 1.00], [\"Did not\", \"Criterion 1 fulfilled\"])\n",
        "ax[1].bar(x = criteria2_fulfilled.index, height = criteria2_fulfilled)\n",
        "ax[1].set_xlabel(\"Criteria most fulfilled\")\n",
        "ax[1].set_ylabel(\"Frequency\")\n",
        "ax[1].set_xticks([0.00, 1.00], [\"Did not\", \"Criterion 2 fulfilled\"])\n",
        "ax[2].bar(x = criteria3_fulfilled.index, height = criteria3_fulfilled)\n",
        "ax[2].set_xlabel(\"Criteria most fulfilled\")\n",
        "ax[2].set_ylabel(\"Frequency\")\n",
        "ax[2].set_xticks([0.00, 1.00], [\"Did not\", \"Criterion 3 fulfilled\"])\n",
        "plt.show()"
      ],
      "metadata": {
        "id": "3Gcf9kJdilnz"
      },
      "execution_count": null,
      "outputs": []
    },
    {
      "cell_type": "markdown",
      "source": [
        "##### 1. Why did you pick the specific chart?"
      ],
      "metadata": {
        "id": "iky9q4vBYrdO"
      }
    },
    {
      "cell_type": "code",
      "source": [],
      "metadata": {
        "id": "IWpLJfvImkfr"
      },
      "execution_count": null,
      "outputs": []
    },
    {
      "cell_type": "markdown",
      "source": [
        "To check how terrorist incidents qualify for the different criterions which are set on various intentions and socio-logical factors."
      ],
      "metadata": {
        "id": "aJRCwT6DYrdO"
      }
    },
    {
      "cell_type": "markdown",
      "source": [
        "##### 2. What is/are the insight(s) found from the chart?"
      ],
      "metadata": {
        "id": "F6T5p64dYrdO"
      }
    },
    {
      "cell_type": "markdown",
      "source": [
        "In most cases criterion 1 and 2 if fulfilled. Few cases are there where criterion 3 is not fulfilled."
      ],
      "metadata": {
        "id": "Xx8WAJvtYrdO"
      }
    },
    {
      "cell_type": "markdown",
      "source": [
        "##### 3. Will the gained insights help creating a positive business impact?\n",
        "Are there any insights that lead to negative growth? Justify with specific reason."
      ],
      "metadata": {
        "id": "y-Ehk30pYrdP"
      }
    },
    {
      "cell_type": "markdown",
      "source": [
        "These socio-economic factors will need to be addressed."
      ],
      "metadata": {
        "id": "jLNxxz7MYrdP"
      }
    },
    {
      "cell_type": "markdown",
      "source": [
        "#### Chart - 5"
      ],
      "metadata": {
        "id": "bamQiAODYuh1"
      }
    },
    {
      "cell_type": "code",
      "source": [
        "df_city = df[\"city\"].value_counts()[1: 6].reset_index()\n",
        "df_city.rename(columns = {\"index\": \"city\", \"city\": \"count\"}, inplace = True)\n",
        "df_city"
      ],
      "metadata": {
        "id": "bXpVdhaXogu8"
      },
      "execution_count": null,
      "outputs": []
    },
    {
      "cell_type": "code",
      "source": [
        "# Chart - 5 visualization code"
      ],
      "metadata": {
        "id": "TIJwrbroYuh3"
      },
      "execution_count": null,
      "outputs": []
    },
    {
      "cell_type": "code",
      "source": [
        "sns.barplot(data = df_city, x = \"city\", y = \"count\", palette = \"inferno\")\n",
        "plt.show()"
      ],
      "metadata": {
        "id": "h6kJDlCMHV8U"
      },
      "execution_count": null,
      "outputs": []
    },
    {
      "cell_type": "markdown",
      "source": [
        "##### 1. Why did you pick the specific chart?"
      ],
      "metadata": {
        "id": "QHF8YVU7Yuh3"
      }
    },
    {
      "cell_type": "markdown",
      "source": [
        "To check which cities are mostly devastated by terrorist activities."
      ],
      "metadata": {
        "id": "dcxuIMRPYuh3"
      }
    },
    {
      "cell_type": "markdown",
      "source": [
        "##### 2. What is/are the insight(s) found from the chart?"
      ],
      "metadata": {
        "id": "GwzvFGzlYuh3"
      }
    },
    {
      "cell_type": "markdown",
      "source": [
        "##Thus we can conclude that Baghdad is the city where most number of terror attacks have occured. It is the city most infamous for terrorism followed by Karachi and Lima."
      ],
      "metadata": {
        "id": "NWul4mjmBrf5"
      }
    },
    {
      "cell_type": "markdown",
      "source": [
        "Baghdad, Karachi, Lima, Mosul and Belfast are the cities which have most terrorist incidents."
      ],
      "metadata": {
        "id": "uyqkiB8YYuh3"
      }
    },
    {
      "cell_type": "markdown",
      "source": [
        "##### 3. Will the gained insights help creating a positive business impact?\n",
        "Are there any insights that lead to negative growth? Justify with specific reason."
      ],
      "metadata": {
        "id": "qYpmQ266Yuh3"
      }
    },
    {
      "cell_type": "markdown",
      "source": [
        "These cities need their terrorist to keep in check."
      ],
      "metadata": {
        "id": "_WtzZ_hCYuh4"
      }
    },
    {
      "cell_type": "markdown",
      "source": [
        "#### Chart - 6"
      ],
      "metadata": {
        "id": "OH-pJp9IphqM"
      }
    },
    {
      "cell_type": "code",
      "source": [
        "attack_type_count = df[\"attacktype1_txt\"].value_counts()\n",
        "attack_type_count"
      ],
      "metadata": {
        "id": "GL7S0oDBpU3K"
      },
      "execution_count": null,
      "outputs": []
    },
    {
      "cell_type": "code",
      "source": [
        "# Chart - 6 visualization code"
      ],
      "metadata": {
        "id": "kuRf4wtuphqN"
      },
      "execution_count": null,
      "outputs": []
    },
    {
      "cell_type": "code",
      "source": [
        "plt.figure(\"Type of attack share\", figsize = (7,7))\n",
        "plt.pie(attack_type_count, labels = attack_type_count.index, autopct = \"%.2f\")\n",
        "plt.show()"
      ],
      "metadata": {
        "id": "QhyQVtSvpued"
      },
      "execution_count": null,
      "outputs": []
    },
    {
      "cell_type": "markdown",
      "source": [
        "##### 1. Why did you pick the specific chart?"
      ],
      "metadata": {
        "id": "bbFf2-_FphqN"
      }
    },
    {
      "cell_type": "markdown",
      "source": [
        "To find what type of attacks happen in these terrorist activities>"
      ],
      "metadata": {
        "id": "loh7H2nzphqN"
      }
    },
    {
      "cell_type": "markdown",
      "source": [
        "##### 2. What is/are the insight(s) found from the chart?"
      ],
      "metadata": {
        "id": "_ouA3fa0phqN"
      }
    },
    {
      "cell_type": "markdown",
      "source": [
        "##Thus we can conclude that most terrorism attacks are of type \"Bombing/Explosion\" and leaset is of type \"Hijacking and Hostage Taking\"."
      ],
      "metadata": {
        "id": "HBPXvvuLqcs9"
      }
    },
    {
      "cell_type": "markdown",
      "source": [
        "##### 3. Will the gained insights help creating a positive business impact?\n",
        "Are there any insights that lead to negative growth? Justify with specific reason."
      ],
      "metadata": {
        "id": "Seke61FWphqN"
      }
    },
    {
      "cell_type": "markdown",
      "source": [
        "Concered parties can address such modes of terrorist where these things mostly take place."
      ],
      "metadata": {
        "id": "DW4_bGpfphqN"
      }
    },
    {
      "cell_type": "markdown",
      "source": [
        "#### Chart - 7"
      ],
      "metadata": {
        "id": "PIIx-8_IphqN"
      }
    },
    {
      "cell_type": "code",
      "source": [
        "most_frequent_terrorism_groups = df[\"gname\"].value_counts()[1: 6].reset_index()\n",
        "print(most_frequent_terrorism_groups)\n",
        "plt.figure(figsize = (6,6))\n",
        "sns.barplot(x = most_frequent_terrorism_groups[\"index\"], y = most_frequent_terrorism_groups[\"gname\"], palette = \"viridis\")\n",
        "plt.xlabel(\"Terrorism group\")\n",
        "plt.ylabel(\"Times of attack\")\n",
        "plt.xticks(rotation = 90)\n",
        "plt.show()"
      ],
      "metadata": {
        "id": "A5xfwjwCqYi_"
      },
      "execution_count": null,
      "outputs": []
    },
    {
      "cell_type": "code",
      "source": [
        "# Chart - 7 visualization code"
      ],
      "metadata": {
        "id": "lqAIGUfyphqO"
      },
      "execution_count": null,
      "outputs": []
    },
    {
      "cell_type": "markdown",
      "source": [
        "##### 1. Why did you pick the specific chart?"
      ],
      "metadata": {
        "id": "t27r6nlMphqO"
      }
    },
    {
      "cell_type": "markdown",
      "source": [
        "Because it make the visualization of various terrorist groups frequency of attacking in a better manner."
      ],
      "metadata": {
        "id": "iv6ro40sphqO"
      }
    },
    {
      "cell_type": "markdown",
      "source": [
        "##### 2. What is/are the insight(s) found from the chart?"
      ],
      "metadata": {
        "id": "r2jJGEOYphqO"
      }
    },
    {
      "cell_type": "markdown",
      "source": [
        "Taliban and ISIL are the leading terrorist organizations."
      ],
      "metadata": {
        "id": "Po6ZPi4hphqO"
      }
    },
    {
      "cell_type": "markdown",
      "source": [
        "##### 3. Will the gained insights help creating a positive business impact?\n",
        "Are there any insights that lead to negative growth? Justify with specific reason. They may get more PR if they get hands on this data leading to negative growth."
      ],
      "metadata": {
        "id": "b0JNsNcRphqO"
      }
    },
    {
      "cell_type": "markdown",
      "source": [
        "These groups must be investigated."
      ],
      "metadata": {
        "id": "xvSq8iUTphqO"
      }
    },
    {
      "cell_type": "markdown",
      "source": [
        "#### Chart - 8"
      ],
      "metadata": {
        "id": "BZR9WyysphqO"
      }
    },
    {
      "cell_type": "code",
      "source": [
        "df_with_ransom = df[df[\"ransomamt\"] != -99]"
      ],
      "metadata": {
        "id": "vQwaWClxw0E4"
      },
      "execution_count": null,
      "outputs": []
    },
    {
      "cell_type": "code",
      "source": [
        "ransom_counts = df_with_ransom[\"ransomamt\"].value_counts().reset_index()[0:5]\n",
        "print(ransom_counts)"
      ],
      "metadata": {
        "id": "Re5imIGi0LhZ"
      },
      "execution_count": null,
      "outputs": []
    },
    {
      "cell_type": "code",
      "source": [
        "# Chart - 8 visualization code"
      ],
      "metadata": {
        "id": "TdPTWpAVphqO"
      },
      "execution_count": null,
      "outputs": []
    },
    {
      "cell_type": "code",
      "source": [
        "plt.pie(x = ransom_counts[\"ransomamt\"], labels = ransom_counts[\"index\"], autopct = \"%.2f\", shadow = True)"
      ],
      "metadata": {
        "id": "NRLlxu38fUUv"
      },
      "execution_count": null,
      "outputs": []
    },
    {
      "cell_type": "markdown",
      "source": [
        "##### 1. Why did you pick the specific chart?"
      ],
      "metadata": {
        "id": "jj7wYXLtphqO"
      }
    },
    {
      "cell_type": "markdown",
      "source": [
        "Because it makes the visualization of different ransom amounts interesting."
      ],
      "metadata": {
        "id": "Ob8u6rCTphqO"
      }
    },
    {
      "cell_type": "markdown",
      "source": [
        "##### 2. What is/are the insight(s) found from the chart?"
      ],
      "metadata": {
        "id": "eZrbJ2SmphqO"
      }
    },
    {
      "cell_type": "markdown",
      "source": [
        "##Thus we conclude that in most of the cases ransom amount is not asked but some other deeds may be asked like 'freeing a prisoner'. Very few attacks have monetary gain as an objective."
      ],
      "metadata": {
        "id": "WmVT6vBnprv3"
      }
    },
    {
      "cell_type": "markdown",
      "source": [
        "##### 3. Will the gained insights help creating a positive business impact?\n",
        "Are there any insights that lead to negative growth? Justify with specific reason."
      ],
      "metadata": {
        "id": "rFu4xreNphqO"
      }
    },
    {
      "cell_type": "markdown",
      "source": [
        "NA"
      ],
      "metadata": {
        "id": "ey_0qi68phqO"
      }
    },
    {
      "cell_type": "markdown",
      "source": [
        "#### Chart - 9"
      ],
      "metadata": {
        "id": "YJ55k-q6phqO"
      }
    },
    {
      "cell_type": "code",
      "source": [
        "ransom_taking_regions = df_with_ransom.groupby(\"region_txt\")[\"nhostkid\"].sum().sort_values(ascending = False)[:5]"
      ],
      "metadata": {
        "id": "aCQDrIT6tkVG"
      },
      "execution_count": null,
      "outputs": []
    },
    {
      "cell_type": "code",
      "source": [
        "# Chart - 9 visualization code"
      ],
      "metadata": {
        "id": "B2aS4O1ophqO"
      },
      "execution_count": null,
      "outputs": []
    },
    {
      "cell_type": "code",
      "source": [
        "plt.figure(figsize = (5, 5))\n",
        "palette = [\"#F72585\", \"#7209B7\", \"#3A0CA3\", \"#4361EE\", \"#4CC9F0\", '#EF5938', '#849B3C', '#599B3C', '#3C9B81', '#41A2F8', '#7841F8', '#F84165']\n",
        "sns.violinplot(data = df_with_ransom, y = \"ransomamt\", x = \"region_txt\", palette = palette)\n",
        "plt.xlabel(\"Region\")\n",
        "plt.ylabel(\"Ransom amount asked\")\n",
        "plt.xticks(rotation = 90)\n",
        "plt.show()"
      ],
      "metadata": {
        "id": "99r-n8Vvu7cM"
      },
      "execution_count": null,
      "outputs": []
    },
    {
      "cell_type": "markdown",
      "source": [
        "##### 1. Why did you pick the specific chart?"
      ],
      "metadata": {
        "id": "gCFgpxoyphqP"
      }
    },
    {
      "cell_type": "markdown",
      "source": [
        "Because we can visualize the data better along with outliers."
      ],
      "metadata": {
        "id": "TVxDimi2phqP"
      }
    },
    {
      "cell_type": "markdown",
      "source": [
        "##### 2. What is/are the insight(s) found from the chart?"
      ],
      "metadata": {
        "id": "OVtJsKN_phqQ"
      }
    },
    {
      "cell_type": "markdown",
      "source": [
        "##Western Europe has the highest ransomamount(outlier) as seen from the violinplot but it is because of an outlier"
      ],
      "metadata": {
        "id": "PTagjHFmDtpE"
      }
    },
    {
      "cell_type": "markdown",
      "source": [
        "##### 3. Will the gained insights help creating a positive business impact?\n",
        "Are there any insights that lead to negative growth? Justify with specific reason."
      ],
      "metadata": {
        "id": "lssrdh5qphqQ"
      }
    },
    {
      "cell_type": "markdown",
      "source": [
        "#### Chart - 10"
      ],
      "metadata": {
        "id": "U2RJ9gkRphqQ"
      }
    },
    {
      "cell_type": "code",
      "source": [
        "plt.pie(df[\"hostkidoutcome_txt\"].value_counts(), labels = df[\"hostkidoutcome_txt\"].value_counts().index, autopct = \"%.2f\")\n",
        "plt.show()"
      ],
      "metadata": {
        "id": "auSW5rNLx80g"
      },
      "execution_count": null,
      "outputs": []
    },
    {
      "cell_type": "code",
      "source": [
        "# Chart - 10 visualization code"
      ],
      "metadata": {
        "id": "GM7a4YP4phqQ"
      },
      "execution_count": null,
      "outputs": []
    },
    {
      "cell_type": "markdown",
      "source": [
        "##### 1. Why did you pick the specific chart?"
      ],
      "metadata": {
        "id": "1M8mcRywphqQ"
      }
    },
    {
      "cell_type": "markdown",
      "source": [
        "Because we can visualize the outcome of the terrorist attack and see their proportion shares."
      ],
      "metadata": {
        "id": "8agQvks0phqQ"
      }
    },
    {
      "cell_type": "markdown",
      "source": [
        "##### 2. What is/are the insight(s) found from the chart?"
      ],
      "metadata": {
        "id": "tgIPom80phqQ"
      }
    },
    {
      "cell_type": "markdown",
      "source": [
        "In most terrorist attacks either hostages are killed or rescued."
      ],
      "metadata": {
        "id": "Qp13pnNzphqQ"
      }
    },
    {
      "cell_type": "markdown",
      "source": [
        "##### 3. Will the gained insights help creating a positive business impact?\n",
        "Are there any insights that lead to negative growth? Justify with specific reason."
      ],
      "metadata": {
        "id": "JMzcOPDDphqR"
      }
    },
    {
      "cell_type": "markdown",
      "source": [
        "Answer Here"
      ],
      "metadata": {
        "id": "R4Ka1PC2phqR"
      }
    },
    {
      "cell_type": "markdown",
      "source": [
        "#### Chart - 11"
      ],
      "metadata": {
        "id": "x-EpHcCOp1ci"
      }
    },
    {
      "cell_type": "code",
      "source": [
        "nkill_sum = df.groupby(\"suicide\")[\"nkill\"].sum()\n",
        "nkill_sum"
      ],
      "metadata": {
        "id": "8-7hcxnE1lw8"
      },
      "execution_count": null,
      "outputs": []
    },
    {
      "cell_type": "code",
      "source": [
        "# Chart - 11 visualization code"
      ],
      "metadata": {
        "id": "mAQTIvtqp1cj"
      },
      "execution_count": null,
      "outputs": []
    },
    {
      "cell_type": "code",
      "source": [
        "plt.figure(figsize = (4, 4))\n",
        "plt.bar(x = nkill_sum.index, height = nkill_sum)\n",
        "plt.xlabel(\"0 for non-suicide attack, 1 for suicide attack\")\n",
        "plt.ylabel(\"Number of killed\")\n",
        "plt.show()"
      ],
      "metadata": {
        "id": "rxAHkUYI_06z"
      },
      "execution_count": null,
      "outputs": []
    },
    {
      "cell_type": "markdown",
      "source": [
        "##### 1. Why did you pick the specific chart?"
      ],
      "metadata": {
        "id": "X_VqEhTip1ck"
      }
    },
    {
      "cell_type": "markdown",
      "source": [
        "Because it is based on a categorical variable."
      ],
      "metadata": {
        "id": "-vsMzt_np1ck"
      }
    },
    {
      "cell_type": "markdown",
      "source": [
        "##### 2. What is/are the insight(s) found from the chart?"
      ],
      "metadata": {
        "id": "8zGJKyg5p1ck"
      }
    },
    {
      "cell_type": "markdown",
      "source": [
        "##Thus we can say that 67213 got killed in suicide attacks and 344655 got killed in non suicide attacks which means amount of killed is not dependent on whether it is a suicide attack or not."
      ],
      "metadata": {
        "id": "MbVTvgg-2j0a"
      }
    },
    {
      "cell_type": "markdown",
      "source": [
        "##### 3. Will the gained insights help creating a positive business impact?\n",
        "Are there any insights that lead to negative growth? Justify with specific reason."
      ],
      "metadata": {
        "id": "PVzmfK_Ep1ck"
      }
    },
    {
      "cell_type": "markdown",
      "source": [
        "Answer Here"
      ],
      "metadata": {
        "id": "druuKYZpp1ck"
      }
    },
    {
      "cell_type": "markdown",
      "source": [
        "#### Chart - 12"
      ],
      "metadata": {
        "id": "n3dbpmDWp1ck"
      }
    },
    {
      "cell_type": "code",
      "source": [
        "weapon_share_df = df.groupby(\"weaptype1_txt\")[\"nkill\"].sum().sort_values(ascending = False)[:8]\n",
        "weapon_share_df"
      ],
      "metadata": {
        "id": "6YMqndoL2e-a"
      },
      "execution_count": null,
      "outputs": []
    },
    {
      "cell_type": "code",
      "source": [
        "# Chart - 12 visualization code"
      ],
      "metadata": {
        "id": "bwevp1tKp1ck"
      },
      "execution_count": null,
      "outputs": []
    },
    {
      "cell_type": "code",
      "source": [
        "patches, labels = plt.pie(weapon_share_df, radius=2, shadow = True, startangle= 180)\n",
        "plt.legend(patches, labels = weapon_share_df.index, loc = 2)\n",
        "plt.show()"
      ],
      "metadata": {
        "id": "jhtuJ3zC3Dcj"
      },
      "execution_count": null,
      "outputs": []
    },
    {
      "cell_type": "markdown",
      "source": [
        "##### 1. Why did you pick the specific chart?"
      ],
      "metadata": {
        "id": "ylSl6qgtp1ck"
      }
    },
    {
      "cell_type": "markdown",
      "source": [
        "Because it make the viewing of the type of weapons used in a very good manner."
      ],
      "metadata": {
        "id": "m2xqNkiQp1ck"
      }
    },
    {
      "cell_type": "markdown",
      "source": [
        "##### 2. What is/are the insight(s) found from the chart?"
      ],
      "metadata": {
        "id": "ZWILFDl5p1ck"
      }
    },
    {
      "cell_type": "markdown",
      "source": [
        "##Thus we can conclude that most deaths in terrorism happens from Firearms and Explosives, whereas Melee, Incendiary, Vehicle and Chemical weapons also rank in the top 10 after Firearms and Explosives"
      ],
      "metadata": {
        "id": "Wpa27UrB3Pyy"
      }
    },
    {
      "cell_type": "markdown",
      "source": [
        "##### 3. Will the gained insights help creating a positive business impact?\n",
        "Are there any insights that lead to negative growth? Justify with specific reason."
      ],
      "metadata": {
        "id": "M7G43BXep1ck"
      }
    },
    {
      "cell_type": "markdown",
      "source": [
        "Such weapons must be restricted from getting in hands of the terrorists>"
      ],
      "metadata": {
        "id": "5wwDJXsLp1cl"
      }
    },
    {
      "cell_type": "markdown",
      "source": [
        "#### Chart - 13"
      ],
      "metadata": {
        "id": "Ag9LCva-p1cl"
      }
    },
    {
      "cell_type": "code",
      "source": [
        "killed_per_year = df.groupby(\"iyear\")[\"nkill\"].sum()\n",
        "killed_per_year"
      ],
      "metadata": {
        "id": "P_CjJJ2B3pqH"
      },
      "execution_count": null,
      "outputs": []
    },
    {
      "cell_type": "code",
      "source": [
        "# Chart - 13 visualization code"
      ],
      "metadata": {
        "id": "EUfxeq9-p1cl"
      },
      "execution_count": null,
      "outputs": []
    },
    {
      "cell_type": "code",
      "source": [
        "plt.plot(killed_per_year.index, killed_per_year)\n",
        "plt.xlabel(\"Year\")\n",
        "plt.ylabel(\"Number of killed in terror attack\")\n",
        "plt.show()"
      ],
      "metadata": {
        "id": "z555_Cek6TEo"
      },
      "execution_count": null,
      "outputs": []
    },
    {
      "cell_type": "markdown",
      "source": [
        "####Chart 14"
      ],
      "metadata": {
        "id": "nqlObzloi8Ry"
      }
    },
    {
      "cell_type": "code",
      "source": [
        "nationality = df[\"natlty1_txt\"].value_counts().reset_index()\n",
        "top_nationality = nationality.iloc[:10]\n",
        "top_nationality"
      ],
      "metadata": {
        "id": "eP6iK_KAjh2b"
      },
      "execution_count": null,
      "outputs": []
    },
    {
      "cell_type": "code",
      "source": [
        "sns.barplot(data = top_nationality, x = \"index\", y = \"natlty1_txt\", palette = \"viridis\")\n",
        "plt.xticks(rotation = 90)\n",
        "plt.title(\"Most suffered nationalities by terrorism.\")\n",
        "plt.show()"
      ],
      "metadata": {
        "id": "yMPNByJEi6eg"
      },
      "execution_count": null,
      "outputs": []
    },
    {
      "cell_type": "markdown",
      "source": [
        "##### 2. What is/are the insight(s) found from the chart?"
      ],
      "metadata": {
        "id": "2cELzS2fp1cl"
      }
    },
    {
      "cell_type": "markdown",
      "source": [
        "####Thus we can conclude that Iraq, Pakistan, India, Afghanistan, Columbia are the top 5 nationalities suffering from terrorism."
      ],
      "metadata": {
        "id": "0NYxC0_cmyoj"
      }
    },
    {
      "cell_type": "markdown",
      "source": [
        "##### 1. Why did you pick the specific chart?"
      ],
      "metadata": {
        "id": "E6MkPsBcp1cl"
      }
    },
    {
      "cell_type": "markdown",
      "source": [
        "Because it make the visualization easier."
      ],
      "metadata": {
        "id": "V22bRsFWp1cl"
      }
    },
    {
      "cell_type": "markdown",
      "source": [
        "##Thus we can conclude that deaths due to terrorism has grown over time with it reducing after 2012, may be due to awareness and anti-terror groups formed after 2012."
      ],
      "metadata": {
        "id": "PBjBta296q6K"
      }
    },
    {
      "cell_type": "markdown",
      "source": [
        "####Chart - 15"
      ],
      "metadata": {
        "id": "T7CaX9tehTcC"
      }
    },
    {
      "cell_type": "markdown",
      "source": [
        "##### 3. Will the gained insights help creating a positive business impact?\n",
        "Are there any insights that lead to negative growth? Justify with specific reason."
      ],
      "metadata": {
        "id": "3MPXvC8up1cl"
      }
    },
    {
      "cell_type": "markdown",
      "source": [
        "These insights will show how the terrorist activities were frequented over time."
      ],
      "metadata": {
        "id": "GL8l1tdLp1cl"
      }
    },
    {
      "cell_type": "code",
      "source": [
        "plt.figure(figsize = (4, 4))\n",
        "sns.histplot(data = df, x = \"iyear\", kde = True)\n",
        "plt.xlabel(\"Year\")\n",
        "plt.ylabel(\"Frequency of terrorism\")\n",
        "plt.show()"
      ],
      "metadata": {
        "id": "miW3KH2U6eeB"
      },
      "execution_count": null,
      "outputs": []
    },
    {
      "cell_type": "markdown",
      "source": [
        "##This histogram is plotted to show frequency of terrorism with respect to year. Contemplation : self explanatory"
      ],
      "metadata": {
        "id": "pcpmuU7h7r4X"
      }
    },
    {
      "cell_type": "markdown",
      "source": [
        "####Chart - 15"
      ],
      "metadata": {
        "id": "peW0Bqroncj5"
      }
    },
    {
      "cell_type": "code",
      "source": [
        "df[\"weaptype1_txt\"].value_counts()"
      ],
      "metadata": {
        "id": "peL_NaiT7YpD"
      },
      "execution_count": null,
      "outputs": []
    },
    {
      "cell_type": "code",
      "source": [
        "bio_radio_weapon_df = df[(df[\"weaptype1_txt\"] == \"Biological\") | (df[\"weaptype1_txt\"] == \"Radiological\")]\n",
        "bio_radio_weapon_df.head(3)"
      ],
      "metadata": {
        "id": "gqZA5IJKEU5D"
      },
      "execution_count": null,
      "outputs": []
    },
    {
      "cell_type": "code",
      "source": [
        "sns.scatterplot(data = bio_radio_weapon_df, x = \"weaptype1_txt\", y = \"region_txt\", hue = \"gname\")\n",
        "plt.title(\"Radiological and biological weapons used in given regions, color of dot represents terror group\")\n",
        "plt.legend(loc='center right', bbox_to_anchor=(2.0, 0.5))"
      ],
      "metadata": {
        "id": "eshZQlMHEnbM"
      },
      "execution_count": null,
      "outputs": []
    },
    {
      "cell_type": "markdown",
      "source": [
        "####Chart 16"
      ],
      "metadata": {
        "id": "yHfmr02OnfPj"
      }
    },
    {
      "cell_type": "code",
      "source": [
        "cross_border_attack = df[\"INT_LOG\"].value_counts()[1:]"
      ],
      "metadata": {
        "id": "u0O6tT5AFT_T"
      },
      "execution_count": null,
      "outputs": []
    },
    {
      "cell_type": "code",
      "source": [
        "fig, ax = plt.subplots()\n",
        "ax.bar(x = cross_border_attack.index, height = cross_border_attack)\n",
        "ax.set_xticks([0.00, 1.00], [\"Domestic\", \"International\"])\n",
        "plt.xlabel(\"Cross Border Attack\")\n",
        "plt.ylabel(\"Occurred number of times\")"
      ],
      "metadata": {
        "id": "n-4ObrHasFTt"
      },
      "execution_count": null,
      "outputs": []
    },
    {
      "cell_type": "markdown",
      "source": [
        "####Chart - 17"
      ],
      "metadata": {
        "id": "HgsOaE9enn-S"
      }
    },
    {
      "cell_type": "code",
      "source": [
        "targ_subtype = df[\"targsubtype1_txt\"].value_counts().reset_index().rename(columns = {\"index\" : \"target\", \"targsubtype1_txt\" : \"count\"})\n",
        "targ_subtype = targ_subtype.iloc[1: 11]\n",
        "targ_subtype"
      ],
      "metadata": {
        "id": "fCpEabMVsVHf"
      },
      "execution_count": null,
      "outputs": []
    },
    {
      "cell_type": "code",
      "source": [
        "sns.barplot(data = targ_subtype, x = \"target\", y = \"count\",  palette = \"viridis\")\n",
        "plt.xticks(rotation = 90)\n",
        "plt.show()"
      ],
      "metadata": {
        "id": "wA8MmiSPGCjl"
      },
      "execution_count": null,
      "outputs": []
    },
    {
      "cell_type": "markdown",
      "source": [
        "####Thus we can conclude that police, military and government institutions are mostly under attack in a terrorism attack."
      ],
      "metadata": {
        "id": "dciyL86hqTm1"
      }
    },
    {
      "cell_type": "markdown",
      "source": [
        "####Chart - 18"
      ],
      "metadata": {
        "id": "HVRoFM1Enqb2"
      }
    },
    {
      "cell_type": "code",
      "source": [
        "df_summary = df[\"summary\"].dropna()\n",
        "df_summary"
      ],
      "metadata": {
        "id": "7WwUZpHFvwAk"
      },
      "execution_count": null,
      "outputs": []
    },
    {
      "cell_type": "code",
      "source": [
        "text = \"\"\n",
        "for word in df_summary:\n",
        "  text += word\n",
        "wc = WordCloud().generate(text)\n",
        "plt.imshow(wc)"
      ],
      "metadata": {
        "id": "2U29FWFewSQx"
      },
      "execution_count": null,
      "outputs": []
    },
    {
      "cell_type": "markdown",
      "source": [
        "#####Visualization of terms used in summary column. Summary : Summary of terrorist attack"
      ],
      "metadata": {
        "id": "4ljUNgY-GlxH"
      }
    },
    {
      "cell_type": "markdown",
      "source": [
        "####Chart - 19"
      ],
      "metadata": {
        "id": "0xIAJHjXntlk"
      }
    },
    {
      "cell_type": "code",
      "source": [
        "df_planned = df[\"multiple\"].value_counts().reset_index()\n",
        "df_planned"
      ],
      "metadata": {
        "id": "dbviefrvwiHd"
      },
      "execution_count": null,
      "outputs": []
    },
    {
      "cell_type": "code",
      "source": [
        "fig, ax = plt.subplots()\n",
        "sns.countplot(data = df, x = \"multiple\")\n",
        "ax.set_xticks([0.0, 1.0], [\"Singular attack\", \"Part of multi attack\"])\n",
        "ax.set_xlabel(\"Singular or part of a large planned attack\")\n",
        "ax.set_ylabel(\"Number of time occurred\")\n",
        "plt.show()"
      ],
      "metadata": {
        "id": "1r1T2cTrxYaC"
      },
      "execution_count": null,
      "outputs": []
    },
    {
      "cell_type": "markdown",
      "source": [
        "## This chart show if the attacks were singular or part of a bigger multi-attack."
      ],
      "metadata": {
        "id": "pBatRLdfGfAn"
      }
    },
    {
      "cell_type": "markdown",
      "source": [
        "####Chart - 20"
      ],
      "metadata": {
        "id": "g-wCh4RYnxpJ"
      }
    },
    {
      "cell_type": "code",
      "source": [
        "df_released = df[df[\"nreleased\"] != -99].reset_index()\n",
        "df_most_released = df_released[\"gname\"].value_counts().reset_index().iloc[1: 10]\n",
        "df_most_released"
      ],
      "metadata": {
        "id": "rttMNttZzO9z"
      },
      "execution_count": null,
      "outputs": []
    },
    {
      "cell_type": "code",
      "source": [
        "sns.lineplot(data = df_most_released, x = \"index\", y = \"gname\", color = \"r\")\n",
        "plt.xticks(rotation = 90)\n",
        "plt.xlabel(\"Terrorist group\")\n",
        "plt.ylabel(\"Number of hostages / kidnapped rescued\")\n",
        "plt.show()"
      ],
      "metadata": {
        "id": "aYMfw8a-0mRX"
      },
      "execution_count": null,
      "outputs": []
    },
    {
      "cell_type": "markdown",
      "source": [
        "# This chart shows the various terror groups number of rescued hostages or kidnapped."
      ],
      "metadata": {
        "id": "6SYLRyaYGVzM"
      }
    },
    {
      "cell_type": "markdown",
      "source": [
        "## **5. Solution to Business Objective**"
      ],
      "metadata": {
        "id": "JcMwzZxoAimU"
      }
    },
    {
      "cell_type": "markdown",
      "source": [
        "1. To reduce terrorist first we have to reduce the chances of fireworks/guns and bombs falling in to the hands of terrorist organization or general public.\n",
        "2. Countries in middle east mostly have work on their anti-terror business.\n",
        "3. Countries like Iraq, Pakistan, Afghanistan, India and Columbia have to increase their anti-terror duties.\n",
        "4. Terrorist activities have reduced in the recent decade.\n",
        "5. Taliban, ISIL and The Shining Path are the most popular terrorist organizations."
      ],
      "metadata": {
        "id": "8G2x9gOozGDZ"
      }
    },
    {
      "cell_type": "markdown",
      "source": [
        "# **Conclusion**"
      ],
      "metadata": {
        "id": "gCX9965dhzqZ"
      }
    },
    {
      "cell_type": "markdown",
      "source": [
        "Terror attack do have a trend over region, countries and cities. And also have a relation over time. The main findings are listed above."
      ],
      "metadata": {
        "id": "Fjb1IsQkh3yE"
      }
    },
    {
      "cell_type": "markdown",
      "source": [
        "### ***Hurrah! You have successfully completed your EDA Capstone Project !!!***"
      ],
      "metadata": {
        "id": "gIfDvo9L0UH2"
      }
    }
  ]
}